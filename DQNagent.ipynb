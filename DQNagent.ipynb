{
 "cells": [
  {
   "cell_type": "code",
   "execution_count": 16,
   "metadata": {
    "collapsed": true
   },
   "outputs": [],
   "source": [
    "import numpy as np\n",
    "import gym\n",
    "import torch\n",
    "import torch.nn as nn\n",
    "from tqdm import tqdm\n",
    "import matplotlib.pyplot as plot"
   ]
  },
  {
   "cell_type": "code",
   "execution_count": 17,
   "metadata": {
    "collapsed": false
   },
   "outputs": [],
   "source": [
    "class Agent:\n",
    "    def __init__(self, action_space, state_space):\n",
    "        #hyperparameters, consider adding to constructor\n",
    "        self.batch_size = 128\n",
    "        self.learning_rate = 0.001\n",
    "        self.RB_size = 100000\n",
    "        self.gamma = 0.99\n",
    "        self.epsilon = 1\n",
    "        self.epsilon_min = 0.01\n",
    "        self.epsilon_decrement = 1e-4\n",
    "\n",
    "        self.action_space = np.arange(action_space)\n",
    "\n",
    "        #Deep Q Network\n",
    "        self.dqn = DQN(self.learning_rate, action_space, state_space, 16)\n",
    "        #Replay Buffer\n",
    "        self.rb = ReplayBuffer(self.RB_size)\n",
    "\n",
    "    def choose_action(self, state):\n",
    "        if np.random.random() <= self.epsilon:\n",
    "            return np.random.choice(self.action_space)\n",
    "        else:\n",
    "            if type(state) is tuple:    #I don't know why, but sometimes it is a tuple with index 0 the array and index 2 empty?~!\n",
    "                state = state[0]\n",
    "            state_ = torch.tensor([state]).to(self.dqn.device)\n",
    "            actions = self.dqn.forward(state_)\n",
    "            return torch.argmax(actions).item()\n",
    "\n",
    "    def step(self):\n",
    "        if len(self.rb) < self.batch_size:\n",
    "            return\n",
    "\n",
    "\n",
    "        self.dqn.optim.zero_grad()\n",
    "\n",
    "        batch = self.rb.get_nbest(self.batch_size)\n",
    "        for trajectory in batch:\n",
    "            trajectory_state = trajectory[\"state\"]\n",
    "            if type(trajectory_state) is tuple:    #I don't know why, but sometimes it is a tuple with index 0 the array and index 2 empty?~!\n",
    "                trajectory_state = trajectory_state[0]\n",
    "            q_eval = self.dqn.forward(torch.tensor(trajectory_state).to(self.dqn.device))\n",
    "\n",
    "            trajectory_action = trajectory[\"action\"]\n",
    "\n",
    "            trajectory_next_state = trajectory[\"new_state\"]\n",
    "            q_next = self.dqn.forward(torch.tensor(trajectory_next_state).to(self.dqn.device))\n",
    "\n",
    "            trajectory_reward = trajectory[\"reward\"]\n",
    "\n",
    "            q_target = trajectory_reward + self.gamma * torch.max(q_next)\n",
    "\n",
    "            loss = self.dqn.loss(q_target, q_eval[trajectory_action]).to(self.dqn.device)\n",
    "            loss.backward()\n",
    "\n",
    "        self.dqn.optim.step()\n",
    "\n",
    "        self.epsilon = self.epsilon - self.epsilon_decrement if self.epsilon > self.epsilon_min else self.epsilon_min\n",
    "\n"
   ]
  },
  {
   "cell_type": "code",
   "execution_count": 18,
   "metadata": {
    "collapsed": false
   },
   "outputs": [],
   "source": [
    "class ReplayBuffer:\n",
    "    def __init__(self, max_size):\n",
    "        self.max_size = max_size\n",
    "        self.buffer = []\n",
    "\n",
    "    def add_sample(self, current_state, new_state, action, rewards):\n",
    "        trajectory = {\"state\": current_state, \"new_state\": new_state, \"action\":action, \"reward\": rewards}\n",
    "        self.buffer.append(trajectory)\n",
    "\n",
    "    def sort(self):\n",
    "        #sort buffer\n",
    "        self.buffer = sorted(self.buffer, key = lambda i: i[\"reward\"],reverse=True)\n",
    "        # keep the max buffer size\n",
    "        self.buffer = self.buffer[:self.max_size]\n",
    "\n",
    "    def get_random_samples(self, batch_size):\n",
    "        self.sort()\n",
    "        idxs = np.random.randint(0, len(self.buffer), batch_size)\n",
    "        batch = [self.buffer[idx] for idx in idxs]\n",
    "        return batch\n",
    "\n",
    "    def get_nbest(self, n):\n",
    "        self.sort()\n",
    "        return self.buffer[:n]\n",
    "\n",
    "    def __len__(self):\n",
    "        return len(self.buffer)"
   ]
  },
  {
   "cell_type": "code",
   "execution_count": 19,
   "metadata": {
    "collapsed": false
   },
   "outputs": [],
   "source": [
    "class DQN(nn.Module):\n",
    "    def __init__(self, learning_rate, action_space, state_space, hidden_size):\n",
    "        super(DQN, self).__init__()\n",
    "        self.actions = np.arange(action_space)\n",
    "        self.fc1 = nn.Linear(state_space, hidden_size)\n",
    "        self.fc2 = nn.Linear(hidden_size, hidden_size)\n",
    "        self.fc3 = nn.Linear(hidden_size, action_space)\n",
    "        self.loss = nn.MSELoss()\n",
    "\n",
    "        self.optim = torch.optim.Adam(self.parameters(), lr=learning_rate)\n",
    "        self.device = torch.device('cuda:0' if torch.cuda.is_available() else 'cpu')\n",
    "        self.to(self.device)\n",
    "\n",
    "    def forward(self, state):\n",
    "        out = torch.relu(self.fc1(state))\n",
    "        out = torch.relu(self.fc2(out))\n",
    "        out = self.fc3(out)\n",
    "        return out"
   ]
  },
  {
   "cell_type": "code",
   "execution_count": 20,
   "metadata": {
    "collapsed": false
   },
   "outputs": [
    {
     "name": "stderr",
     "output_type": "stream",
     "text": [
      "100%|██████████| 30/30 [00:36<00:00,  1.22s/it]"
     ]
    },
    {
     "name": "stdout",
     "output_type": "stream",
     "text": [
      "21.4\n"
     ]
    },
    {
     "name": "stderr",
     "output_type": "stream",
     "text": [
      "\n"
     ]
    },
    {
     "data": {
      "text/plain": "[<matplotlib.lines.Line2D at 0x1ca04be0d00>]"
     },
     "execution_count": 20,
     "metadata": {},
     "output_type": "execute_result"
    },
    {
     "data": {
      "text/plain": "<Figure size 640x480 with 1 Axes>",
      "image/png": "[encoded data removed]"
     },
     "metadata": {},
     "output_type": "display_data"
    }
   ],
   "source": [
    "env = gym.make(\"CartPole-v1\")\n",
    "action_space = env.action_space.n\n",
    "state_space = env.observation_space.shape[0]\n",
    "\n",
    "iterations = 1200\n",
    "\n",
    "final_rewards = []\n",
    "agent = Agent(action_space, state_space)\n",
    "for i in tqdm(range(iterations)):\n",
    "    states, new_states, actions, rewards = [], [], [], []\n",
    "    truncated = False\n",
    "    terminated = False\n",
    "    observation = env.reset()\n",
    "    while not (truncated or terminated):\n",
    "        action = agent.choose_action(observation)\n",
    "        next_observation, reward, terminated, truncated, info = env.step(action)\n",
    "        agent.rb.add_sample(observation, next_observation, action, reward)\n",
    "        states.append(observation)\n",
    "        new_states.append(next_observation)\n",
    "        actions.append(action)\n",
    "        rewards.append(reward)\n",
    "        agent.step()\n",
    "        observation = next_observation\n",
    "    final_rewards.append(sum(rewards))\n",
    "\n",
    "print(np.mean(final_rewards))\n",
    "# print(final_rewards)\n",
    "avg_per_10 = np.zeros(int(iterations/10))\n",
    "for i in range(iterations):\n",
    "    avg_per_10[i//10] += final_rewards[i]\n",
    "avg_per_10 = avg_per_10 / 10\n",
    "\n",
    "plot.plot(avg_per_10)"
   ]
  }
 ],
 "metadata": {
  "kernelspec": {
   "display_name": "Python 3",
   "language": "python",
   "name": "python3"
  },
  "language_info": {
   "codemirror_mode": {
    "name": "ipython",
    "version": 3
   },
   "file_extension": ".py",
   "mimetype": "text/x-python",
   "name": "python",
   "nbconvert_exporter": "python",
   "pygments_lexer": "ipython3",
   "version": "3.10.10"
  }
 },
 "nbformat": 4,
 "nbformat_minor": 0
}
