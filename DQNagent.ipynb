{
 "cells": [
  {
   "cell_type": "code",
   "execution_count": 107,
   "metadata": {
    "collapsed": true
   },
   "outputs": [],
   "source": [
    "import numpy as np\n",
    "import gym\n",
    "import torch\n",
    "import torch.nn as nn\n",
    "from tqdm import tqdm"
   ]
  },
  {
   "cell_type": "code",
   "execution_count": 108,
   "outputs": [],
   "source": [
    "class Agent:\n",
    "    def __init__(self, action_space, state_space):\n",
    "        #hyperparameters, consider adding to constructor\n",
    "        self.batch_size = 256\n",
    "        self.learning_rate = 0.01\n",
    "        self.RB_size = 100000\n",
    "        self.gamma = 0.99\n",
    "        self.epsilon = 1\n",
    "        self.epsilon_min = 0.01\n",
    "        self.epsilon_decrement = 1e-4\n",
    "\n",
    "        self.action_space = np.arange(action_space)\n",
    "\n",
    "        #Deep Q Network\n",
    "        self.dqn = DQN(self.learning_rate, action_space, state_space, 256)\n",
    "        #Replay Buffer\n",
    "        self.rb = ReplayBuffer(self.RB_size)\n",
    "\n",
    "    def choose_action(self, state):\n",
    "        if np.random.random() <= self.epsilon:\n",
    "            return np.random.choice(self.action_space)\n",
    "        else:\n",
    "            if type(state) is tuple:    #I don't know why, but sometimes it is a tuple with index 0 the array and index 2 empty?~!\n",
    "                    state = state[0]\n",
    "            state_ = torch.tensor([state]).to(self.dqn.device)\n",
    "            actions = self.dqn.forward(state_)\n",
    "            return torch.argmax(actions).item()\n",
    "\n",
    "    def step(self):\n",
    "        if len(self.rb) < self.batch_size:\n",
    "            return\n",
    "\n",
    "        self.dqn.optim.zero_grad()\n",
    "\n",
    "        batch = self.rb.get_random_samples(self.batch_size)\n",
    "        for episode in batch:\n",
    "            for trajectory in range(len(episode[\"states\"])):\n",
    "                trajectory_state = episode[\"states\"][trajectory]\n",
    "                if type(trajectory_state) is tuple:    #I don't know why, but sometimes it is a tuple with index 0 the array and index 2 empty?~!\n",
    "                    trajectory_state = trajectory_state[0]\n",
    "                q_eval = self.dqn.forward(torch.tensor(trajectory_state))\n",
    "\n",
    "                trajectory_action = episode[\"actions\"][trajectory]\n",
    "\n",
    "                trajectory_next_state = episode[\"new_states\"][trajectory]\n",
    "                q_next = self.dqn.forward(torch.tensor(trajectory_next_state))\n",
    "\n",
    "                trajectory_reward = episode[\"rewards\"][trajectory]\n",
    "\n",
    "                q_target = trajectory_reward + self.gamma * torch.max(q_next)\n",
    "\n",
    "                loss = self.dqn.loss(q_target, q_eval[trajectory_action]).to(self.dqn.device)\n",
    "                loss.backward()\n",
    "\n",
    "        self.dqn.optim.step()\n",
    "\n",
    "        self.epsilon = self.epsilon - self.epsilon_decrement if self.epsilon > self.epsilon_min else self.epsilon_min\n",
    "\n"
   ],
   "metadata": {
    "collapsed": false
   }
  },
  {
   "cell_type": "code",
   "execution_count": 109,
   "outputs": [],
   "source": [
    "class ReplayBuffer:\n",
    "    def __init__(self, max_size):\n",
    "        self.max_size = max_size\n",
    "        self.buffer = []\n",
    "\n",
    "    def add_sample(self, current_state, new_state, action, rewards):\n",
    "        episode = {\"states\": current_state, \"new_states\": new_state, \"actions\":action, \"rewards\": rewards, \"summed_rewards\":sum(rewards)}\n",
    "        self.buffer.append(episode)\n",
    "\n",
    "    def sort(self):\n",
    "        #sort buffer\n",
    "        self.buffer = sorted(self.buffer, key = lambda i: i[\"summed_rewards\"],reverse=True)\n",
    "        # keep the max buffer size\n",
    "        self.buffer = self.buffer[:self.max_size]\n",
    "\n",
    "    def get_random_samples(self, batch_size):\n",
    "        self.sort()\n",
    "        idxs = np.random.randint(0, len(self.buffer), batch_size)\n",
    "        batch = [self.buffer[idx] for idx in idxs]\n",
    "        return batch\n",
    "\n",
    "    def get_nbest(self, n):\n",
    "        self.sort()\n",
    "        return self.buffer[:n]\n",
    "\n",
    "    def __len__(self):\n",
    "        return len(self.buffer)"
   ],
   "metadata": {
    "collapsed": false
   }
  },
  {
   "cell_type": "code",
   "execution_count": 110,
   "outputs": [],
   "source": [
    "class DQN(nn.Module):\n",
    "    def __init__(self, learning_rate, action_space, state_space, hidden_size):\n",
    "        super(DQN, self).__init__()\n",
    "        self.actions = np.arange(action_space)\n",
    "        self.fc1 = nn.Linear(state_space, hidden_size)\n",
    "        self.fc2 = nn.Linear(hidden_size, hidden_size)\n",
    "        self.fc3 = nn.Linear(hidden_size, action_space)\n",
    "        self.loss = nn.MSELoss()\n",
    "\n",
    "        self.optim = torch.optim.Adam(self.parameters(), lr=learning_rate)\n",
    "        self.device = torch.device('cuda:0' if torch.cuda.is_available() else 'cpu')\n",
    "        self.to(self.device)\n",
    "\n",
    "    def forward(self, state):\n",
    "        out = torch.relu(self.fc1(state))\n",
    "        out = torch.relu(self.fc2(out))\n",
    "        out = self.fc3(out)\n",
    "        return out"
   ],
   "metadata": {
    "collapsed": false
   }
  },
  {
   "cell_type": "code",
   "execution_count": 111,
   "outputs": [
    {
     "name": "stdout",
     "output_type": "stream",
     "text": [
      "False\n"
     ]
    },
    {
     "name": "stderr",
     "output_type": "stream",
     "text": [
      "  0%|          | 0/30 [00:00<?, ?it/s]C:\\Users\\mikcl\\AppData\\Local\\Programs\\Python\\Python310\\lib\\site-packages\\gym\\utils\\passive_env_checker.py:233: DeprecationWarning: `np.bool8` is a deprecated alias for `np.bool_`.  (Deprecated NumPy 1.24)\n",
      "  if not isinstance(terminated, (bool, np.bool8)):\n",
      "100%|██████████| 30/30 [01:24<00:00,  2.83s/it]"
     ]
    },
    {
     "name": "stdout",
     "output_type": "stream",
     "text": [
      "[11.0, 19.0, 15.0, 29.0, 17.0, 14.0, 11.0, 17.0, 27.0, 13.0, 13.0, 19.0, 41.0, 28.0, 35.0, 48.0, 24.0, 27.0, 14.0, 12.0, 20.0, 14.0, 26.0, 26.0, 11.0, 31.0, 12.0, 42.0, 13.0, 39.0]\n"
     ]
    },
    {
     "name": "stderr",
     "output_type": "stream",
     "text": [
      "\n"
     ]
    }
   ],
   "source": [
    "env = gym.make(\"CartPole-v1\")\n",
    "action_space = env.action_space.n\n",
    "state_space = env.observation_space.shape[0]\n",
    "print(torch.cuda.is_available())\n",
    "final_rewards = []\n",
    "agent = Agent(action_space, state_space)\n",
    "for i in tqdm(range(30)):\n",
    "    states, new_states, actions, rewards = [], [], [], []\n",
    "    truncated = False\n",
    "    terminated = False\n",
    "    observation = env.reset()\n",
    "    while not (truncated or terminated):\n",
    "        action = agent.choose_action(observation)\n",
    "        next_observation, reward, terminated, truncated, info = env.step(action)\n",
    "        states.append(observation)\n",
    "        new_states.append(next_observation)\n",
    "        actions.append(action)\n",
    "        rewards.append(reward)\n",
    "        agent.step()\n",
    "        observation = next_observation\n",
    "    agent.rb.add_sample(states, new_states, actions, rewards)\n",
    "    final_rewards.append(sum(rewards))\n",
    "\n",
    "print(final_rewards)\n",
    "# avg_per_100 = np.zeros(20)\n",
    "# for i in range(20000):\n",
    "#     avg_per_100[i//100] += final_rewards[i]\n",
    "# avg_per_100 = avg_per_100 / 100\n",
    "# print(avg_per_100)"
   ],
   "metadata": {
    "collapsed": false
   }
  }
 ],
 "metadata": {
  "kernelspec": {
   "display_name": "Python 3",
   "language": "python",
   "name": "python3"
  },
  "language_info": {
   "codemirror_mode": {
    "name": "ipython",
    "version": 2
   },
   "file_extension": ".py",
   "mimetype": "text/x-python",
   "name": "python",
   "nbconvert_exporter": "python",
   "pygments_lexer": "ipython2",
   "version": "2.7.6"
  }
 },
 "nbformat": 4,
 "nbformat_minor": 0
}
