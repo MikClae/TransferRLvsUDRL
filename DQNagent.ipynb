{
 "cells": [
  {
   "cell_type": "code",
   "execution_count": 22,
   "metadata": {
    "collapsed": true
   },
   "outputs": [],
   "source": [
    "import numpy as np\n",
    "import gym\n",
    "import torch\n",
    "import torch.nn as nn\n",
    "from tqdm import tqdm\n",
    "import matplotlib.pyplot as plot"
   ]
  },
  {
   "cell_type": "code",
   "execution_count": 23,
   "metadata": {
    "collapsed": false
   },
   "outputs": [],
   "source": [
    "class Agent:\n",
    "    def __init__(self, action_space, state_space):\n",
    "        #hyperparameters, consider adding to constructor\n",
    "        self.batch_size = 128\n",
    "        self.learning_rate = 0.001\n",
    "        self.RB_size = 1000000\n",
    "        self.gamma = 0.99\n",
    "        self.epsilon = 1\n",
    "        self.epsilon_min = 0.01\n",
    "        self.epsilon_decrement = 1e-4\n",
    "\n",
    "        self.action_space = np.arange(action_space)\n",
    "\n",
    "        #Deep Q Network\n",
    "        self.dqn = DQN(self.learning_rate, action_space, state_space, 16)\n",
    "        #Replay Buffer\n",
    "        self.rb = ReplayBuffer(self.RB_size)\n",
    "\n",
    "    def choose_action(self, state):\n",
    "        #epsilon probability of taking a random action\n",
    "        if np.random.random() <= self.epsilon:\n",
    "            return np.random.choice(self.action_space)\n",
    "        else:\n",
    "            state_ = torch.tensor(state).to(self.dqn.device)\n",
    "            #feed state in tensor form to NN\n",
    "            actions = self.dqn.forward(state_)\n",
    "            #return action of the highest output node\n",
    "            return torch.argmax(actions).item()\n",
    "\n",
    "    def step(self):\n",
    "        #prevents learning when batch can not be filled yet\n",
    "        if len(self.rb) < self.batch_size:\n",
    "            return\n",
    "\n",
    "        self.dqn.optim.zero_grad()\n",
    "\n",
    "        batch = self.rb.get_random_samples(self.batch_size)\n",
    "        #train NN on every trajectory in batch\n",
    "        for trajectory in batch:\n",
    "            trajectory_state = trajectory[\"state\"]\n",
    "            q_eval = self.dqn.forward(torch.tensor(trajectory_state).to(self.dqn.device))\n",
    "\n",
    "            trajectory_action = trajectory[\"action\"]\n",
    "\n",
    "            trajectory_next_state = trajectory[\"new_state\"]\n",
    "            q_next = self.dqn.forward(torch.tensor(trajectory_next_state).to(self.dqn.device))\n",
    "\n",
    "            trajectory_reward = trajectory[\"reward\"]\n",
    "\n",
    "            q_target = trajectory_reward + self.gamma * torch.max(q_next)\n",
    "\n",
    "            loss = self.dqn.loss(q_target, q_eval[trajectory_action]).to(self.dqn.device)\n",
    "            loss.backward()\n",
    "\n",
    "        self.dqn.optim.step()\n",
    "\n",
    "        self.epsilon = self.epsilon - self.epsilon_decrement if self.epsilon > self.epsilon_min else self.epsilon_min\n",
    "\n"
   ]
  },
  {
   "cell_type": "code",
   "execution_count": 24,
   "metadata": {
    "collapsed": false
   },
   "outputs": [],
   "source": [
    "class ReplayBuffer:\n",
    "    def __init__(self, max_size):\n",
    "        self.max_size = max_size\n",
    "        self.buffer = []\n",
    "\n",
    "    def add_sample(self, current_state, new_state, action, rewards):\n",
    "        trajectory = {\"state\": current_state, \"new_state\": new_state, \"action\":action, \"reward\": rewards}\n",
    "        self.buffer.append(trajectory)\n",
    "\n",
    "    def sort(self):\n",
    "        #sort buffer\n",
    "        self.buffer = sorted(self.buffer, key = lambda i: i[\"reward\"],reverse=True)\n",
    "        # keep the max buffer size\n",
    "        self.buffer = self.buffer[:self.max_size]\n",
    "\n",
    "    def get_random_samples(self, batch_size):\n",
    "        self.sort()\n",
    "        idxs = np.random.randint(0, len(self.buffer), batch_size)\n",
    "        batch = [self.buffer[idx] for idx in idxs]\n",
    "        return batch\n",
    "\n",
    "    def get_nbest(self, n):\n",
    "        self.sort()\n",
    "        return self.buffer[:n]\n",
    "\n",
    "    def __len__(self):\n",
    "        return len(self.buffer)"
   ]
  },
  {
   "cell_type": "code",
   "execution_count": 25,
   "metadata": {
    "collapsed": false
   },
   "outputs": [],
   "source": [
    "class DQN(nn.Module):\n",
    "    def __init__(self, learning_rate, action_space, state_space, hidden_size):\n",
    "        super(DQN, self).__init__()\n",
    "        self.actions = np.arange(action_space)\n",
    "        load_nn = False\n",
    "        if load_nn:\n",
    "            self.fc1 = torch.load(\"fc1.save\")\n",
    "            self.fc2 = torch.load(\"fc2.save\")\n",
    "            self.fc3 = torch.load(\"fc3.save\")\n",
    "        else:\n",
    "            self.fc1 = nn.Linear(state_space, hidden_size)\n",
    "            self.fc2 = nn.Linear(hidden_size, hidden_size)\n",
    "            self.fc3 = nn.Linear(hidden_size, action_space)\n",
    "        self.loss = nn.MSELoss()\n",
    "\n",
    "        self.optim = torch.optim.Adam(self.parameters(), lr=learning_rate)\n",
    "        self.device = torch.device('cuda:0' if torch.cuda.is_available() else 'cpu')\n",
    "        print(\"Using GPU\") if torch.cuda.is_available() else print(\"Using CPU\")\n",
    "        self.to(self.device)\n",
    "\n",
    "    def forward(self, state):\n",
    "        out = torch.relu(self.fc1(state))\n",
    "        out = torch.relu(self.fc2(out))\n",
    "        out = self.fc3(out)\n",
    "        return out"
   ]
  },
  {
   "cell_type": "code",
   "execution_count": 26,
   "outputs": [],
   "source": [
    "def plot_output(output_array):\n",
    "    print(\"Mean reward over\", len(output_array), \"iterations is\", np.mean(output_array))\n",
    "    avg_per_10 = np.zeros(int(len(output_array)/10))\n",
    "    for i in range(len(output_array)):\n",
    "        avg_per_10[i//10] += output_array[i]\n",
    "    avg_per_10 = avg_per_10 / 10\n",
    "\n",
    "    plot.plot(avg_per_10)"
   ],
   "metadata": {
    "collapsed": false
   }
  },
  {
   "cell_type": "code",
   "execution_count": 27,
   "outputs": [],
   "source": [
    "def run_for_iterations(envi, iterations):\n",
    "    final_rewards = []\n",
    "    agent = Agent(action_space, state_space)\n",
    "\n",
    "    trunc_counter = 0\n",
    "    for i in tqdm(range(iterations)):\n",
    "        states, new_states, actions, rewards = [], [], [], []\n",
    "        truncated = False\n",
    "        terminated = False\n",
    "        observation = envi.reset()\n",
    "        #envi.reset() returns a tuple with index 0 the state array and index 2 empty\n",
    "        observation = observation[0]\n",
    "        while not (truncated or terminated):\n",
    "            action = agent.choose_action(observation)\n",
    "            next_observation, reward, terminated, truncated, info = envi.step(action)\n",
    "            if truncated:\n",
    "                trunc_counter += 1\n",
    "            agent.rb.add_sample(observation, next_observation, action, reward)\n",
    "            states.append(observation)\n",
    "            new_states.append(next_observation)\n",
    "            actions.append(action)\n",
    "            rewards.append(reward)\n",
    "            agent.step()\n",
    "            observation = next_observation\n",
    "        final_rewards.append(sum(rewards))\n",
    "\n",
    "    torch.save(agent.dqn.fc1, \"fc1.save\")\n",
    "    torch.save(agent.dqn.fc2, \"fc2.save\")\n",
    "    torch.save(agent.dqn.fc3, \"fc3.save\")\n",
    "\n",
    "    print(final_rewards)\n",
    "\n",
    "    print(\"Full Runs\", trunc_counter)\n",
    "\n",
    "    return final_rewards"
   ],
   "metadata": {
    "collapsed": false
   }
  },
  {
   "cell_type": "code",
   "execution_count": 28,
   "outputs": [
    {
     "name": "stdout",
     "output_type": "stream",
     "text": [
      "Using CPU\n"
     ]
    },
    {
     "name": "stderr",
     "output_type": "stream",
     "text": [
      " 12%|█▏        | 145/1200 [04:47<34:52,  1.98s/it]  \n"
     ]
    },
    {
     "ename": "KeyboardInterrupt",
     "evalue": "",
     "output_type": "error",
     "traceback": [
      "\u001B[1;31m---------------------------------------------------------------------------\u001B[0m",
      "\u001B[1;31mKeyboardInterrupt\u001B[0m                         Traceback (most recent call last)",
      "Cell \u001B[1;32mIn[28], line 5\u001B[0m\n\u001B[0;32m      2\u001B[0m action_space \u001B[38;5;241m=\u001B[39m env\u001B[38;5;241m.\u001B[39maction_space\u001B[38;5;241m.\u001B[39mn\n\u001B[0;32m      3\u001B[0m state_space \u001B[38;5;241m=\u001B[39m env\u001B[38;5;241m.\u001B[39mobservation_space\u001B[38;5;241m.\u001B[39mshape[\u001B[38;5;241m0\u001B[39m]\n\u001B[1;32m----> 5\u001B[0m output \u001B[38;5;241m=\u001B[39m \u001B[43mrun_for_iterations\u001B[49m\u001B[43m(\u001B[49m\u001B[43menv\u001B[49m\u001B[43m,\u001B[49m\u001B[43m \u001B[49m\u001B[38;5;241;43m1200\u001B[39;49m\u001B[43m)\u001B[49m\n\u001B[0;32m      7\u001B[0m plot_output(output)\n",
      "Cell \u001B[1;32mIn[27], line 19\u001B[0m, in \u001B[0;36mrun_for_iterations\u001B[1;34m(envi, iterations)\u001B[0m\n\u001B[0;32m     17\u001B[0m     actions\u001B[38;5;241m.\u001B[39mappend(action)\n\u001B[0;32m     18\u001B[0m     rewards\u001B[38;5;241m.\u001B[39mappend(reward)\n\u001B[1;32m---> 19\u001B[0m     \u001B[43magent\u001B[49m\u001B[38;5;241;43m.\u001B[39;49m\u001B[43mstep\u001B[49m\u001B[43m(\u001B[49m\u001B[43m)\u001B[49m\n\u001B[0;32m     20\u001B[0m     observation \u001B[38;5;241m=\u001B[39m next_observation\n\u001B[0;32m     21\u001B[0m final_rewards\u001B[38;5;241m.\u001B[39mappend(\u001B[38;5;28msum\u001B[39m(rewards))\n",
      "Cell \u001B[1;32mIn[23], line 52\u001B[0m, in \u001B[0;36mAgent.step\u001B[1;34m(self)\u001B[0m\n\u001B[0;32m     48\u001B[0m     trajectory_reward \u001B[38;5;241m=\u001B[39m trajectory[\u001B[38;5;124m\"\u001B[39m\u001B[38;5;124mreward\u001B[39m\u001B[38;5;124m\"\u001B[39m]\n\u001B[0;32m     50\u001B[0m     q_target \u001B[38;5;241m=\u001B[39m trajectory_reward \u001B[38;5;241m+\u001B[39m \u001B[38;5;28mself\u001B[39m\u001B[38;5;241m.\u001B[39mgamma \u001B[38;5;241m*\u001B[39m torch\u001B[38;5;241m.\u001B[39mmax(q_next)\n\u001B[1;32m---> 52\u001B[0m     loss \u001B[38;5;241m=\u001B[39m \u001B[38;5;28;43mself\u001B[39;49m\u001B[38;5;241;43m.\u001B[39;49m\u001B[43mdqn\u001B[49m\u001B[38;5;241;43m.\u001B[39;49m\u001B[43mloss\u001B[49m\u001B[43m(\u001B[49m\u001B[43mq_target\u001B[49m\u001B[43m,\u001B[49m\u001B[43m \u001B[49m\u001B[43mq_eval\u001B[49m\u001B[43m[\u001B[49m\u001B[43mtrajectory_action\u001B[49m\u001B[43m]\u001B[49m\u001B[43m)\u001B[49m\u001B[38;5;241m.\u001B[39mto(\u001B[38;5;28mself\u001B[39m\u001B[38;5;241m.\u001B[39mdqn\u001B[38;5;241m.\u001B[39mdevice)\n\u001B[0;32m     53\u001B[0m     loss\u001B[38;5;241m.\u001B[39mbackward()\n\u001B[0;32m     55\u001B[0m \u001B[38;5;28mself\u001B[39m\u001B[38;5;241m.\u001B[39mdqn\u001B[38;5;241m.\u001B[39moptim\u001B[38;5;241m.\u001B[39mstep()\n",
      "File \u001B[1;32m~\\AppData\\Local\\Programs\\Python\\Python310\\lib\\site-packages\\torch\\nn\\modules\\module.py:1501\u001B[0m, in \u001B[0;36mModule._call_impl\u001B[1;34m(self, *args, **kwargs)\u001B[0m\n\u001B[0;32m   1496\u001B[0m \u001B[38;5;66;03m# If we don't have any hooks, we want to skip the rest of the logic in\u001B[39;00m\n\u001B[0;32m   1497\u001B[0m \u001B[38;5;66;03m# this function, and just call forward.\u001B[39;00m\n\u001B[0;32m   1498\u001B[0m \u001B[38;5;28;01mif\u001B[39;00m \u001B[38;5;129;01mnot\u001B[39;00m (\u001B[38;5;28mself\u001B[39m\u001B[38;5;241m.\u001B[39m_backward_hooks \u001B[38;5;129;01mor\u001B[39;00m \u001B[38;5;28mself\u001B[39m\u001B[38;5;241m.\u001B[39m_backward_pre_hooks \u001B[38;5;129;01mor\u001B[39;00m \u001B[38;5;28mself\u001B[39m\u001B[38;5;241m.\u001B[39m_forward_hooks \u001B[38;5;129;01mor\u001B[39;00m \u001B[38;5;28mself\u001B[39m\u001B[38;5;241m.\u001B[39m_forward_pre_hooks\n\u001B[0;32m   1499\u001B[0m         \u001B[38;5;129;01mor\u001B[39;00m _global_backward_pre_hooks \u001B[38;5;129;01mor\u001B[39;00m _global_backward_hooks\n\u001B[0;32m   1500\u001B[0m         \u001B[38;5;129;01mor\u001B[39;00m _global_forward_hooks \u001B[38;5;129;01mor\u001B[39;00m _global_forward_pre_hooks):\n\u001B[1;32m-> 1501\u001B[0m     \u001B[38;5;28;01mreturn\u001B[39;00m forward_call(\u001B[38;5;241m*\u001B[39margs, \u001B[38;5;241m*\u001B[39m\u001B[38;5;241m*\u001B[39mkwargs)\n\u001B[0;32m   1502\u001B[0m \u001B[38;5;66;03m# Do not call functions when jit is used\u001B[39;00m\n\u001B[0;32m   1503\u001B[0m full_backward_hooks, non_full_backward_hooks \u001B[38;5;241m=\u001B[39m [], []\n",
      "File \u001B[1;32m~\\AppData\\Local\\Programs\\Python\\Python310\\lib\\site-packages\\torch\\nn\\modules\\loss.py:536\u001B[0m, in \u001B[0;36mMSELoss.forward\u001B[1;34m(self, input, target)\u001B[0m\n\u001B[0;32m    535\u001B[0m \u001B[38;5;28;01mdef\u001B[39;00m \u001B[38;5;21mforward\u001B[39m(\u001B[38;5;28mself\u001B[39m, \u001B[38;5;28minput\u001B[39m: Tensor, target: Tensor) \u001B[38;5;241m-\u001B[39m\u001B[38;5;241m>\u001B[39m Tensor:\n\u001B[1;32m--> 536\u001B[0m     \u001B[38;5;28;01mreturn\u001B[39;00m \u001B[43mF\u001B[49m\u001B[38;5;241;43m.\u001B[39;49m\u001B[43mmse_loss\u001B[49m\u001B[43m(\u001B[49m\u001B[38;5;28;43minput\u001B[39;49m\u001B[43m,\u001B[49m\u001B[43m \u001B[49m\u001B[43mtarget\u001B[49m\u001B[43m,\u001B[49m\u001B[43m \u001B[49m\u001B[43mreduction\u001B[49m\u001B[38;5;241;43m=\u001B[39;49m\u001B[38;5;28;43mself\u001B[39;49m\u001B[38;5;241;43m.\u001B[39;49m\u001B[43mreduction\u001B[49m\u001B[43m)\u001B[49m\n",
      "File \u001B[1;32m~\\AppData\\Local\\Programs\\Python\\Python310\\lib\\site-packages\\torch\\nn\\functional.py:3295\u001B[0m, in \u001B[0;36mmse_loss\u001B[1;34m(input, target, size_average, reduce, reduction)\u001B[0m\n\u001B[0;32m   3292\u001B[0m     reduction \u001B[38;5;241m=\u001B[39m _Reduction\u001B[38;5;241m.\u001B[39mlegacy_get_string(size_average, reduce)\n\u001B[0;32m   3294\u001B[0m expanded_input, expanded_target \u001B[38;5;241m=\u001B[39m torch\u001B[38;5;241m.\u001B[39mbroadcast_tensors(\u001B[38;5;28minput\u001B[39m, target)\n\u001B[1;32m-> 3295\u001B[0m \u001B[38;5;28;01mreturn\u001B[39;00m \u001B[43mtorch\u001B[49m\u001B[38;5;241;43m.\u001B[39;49m\u001B[43m_C\u001B[49m\u001B[38;5;241;43m.\u001B[39;49m\u001B[43m_nn\u001B[49m\u001B[38;5;241;43m.\u001B[39;49m\u001B[43mmse_loss\u001B[49m\u001B[43m(\u001B[49m\u001B[43mexpanded_input\u001B[49m\u001B[43m,\u001B[49m\u001B[43m \u001B[49m\u001B[43mexpanded_target\u001B[49m\u001B[43m,\u001B[49m\u001B[43m \u001B[49m\u001B[43m_Reduction\u001B[49m\u001B[38;5;241;43m.\u001B[39;49m\u001B[43mget_enum\u001B[49m\u001B[43m(\u001B[49m\u001B[43mreduction\u001B[49m\u001B[43m)\u001B[49m\u001B[43m)\u001B[49m\n",
      "\u001B[1;31mKeyboardInterrupt\u001B[0m: "
     ]
    }
   ],
   "source": [
    "env = gym.make(\"CartPole-v1\")\n",
    "action_space = env.action_space.n\n",
    "state_space = env.observation_space.shape[0]\n",
    "\n",
    "output = run_for_iterations(env, 500)\n",
    "\n",
    "plot_output(output)"
   ],
   "metadata": {
    "collapsed": false
   }
  }
 ],
 "metadata": {
  "kernelspec": {
   "display_name": "Python 3",
   "language": "python",
   "name": "python3"
  },
  "language_info": {
   "codemirror_mode": {
    "name": "ipython",
    "version": 3
   },
   "file_extension": ".py",
   "mimetype": "text/x-python",
   "name": "python",
   "nbconvert_exporter": "python",
   "pygments_lexer": "ipython3",
   "version": "3.10.10"
  }
 },
 "nbformat": 4,
 "nbformat_minor": 0
}
