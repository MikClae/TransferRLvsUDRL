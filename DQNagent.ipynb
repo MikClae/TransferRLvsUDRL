{
 "cells": [
  {
   "cell_type": "code",
   "execution_count": 96,
   "metadata": {
    "collapsed": true
   },
   "outputs": [],
   "source": [
    "import numpy as np\n",
    "import gym\n",
    "import torch\n",
    "import torch.nn as nn"
   ]
  },
  {
   "cell_type": "code",
   "execution_count": 97,
   "outputs": [],
   "source": [
    "class Agent:\n",
    "    def __init__(self, action_space, state_space):\n",
    "        #hyperparameters, consider adding to constructor\n",
    "        self.batch_size = 256\n",
    "        self.learning_rate = 0.01\n",
    "        self.RB_size = 100000\n",
    "        self.gamma = 0.99\n",
    "        self.epsilon = 1\n",
    "        self.epsilon_min = 0.01\n",
    "        self.epsilon_decrement = 1e-4\n",
    "\n",
    "        self.action_space = np.arange(action_space)\n",
    "\n",
    "        #Deep Q Network\n",
    "        self.dqn = DQN(self.learning_rate, action_space, state_space, 256)\n",
    "        #Replay Buffer\n",
    "        self.rb = ReplayBuffer(self.RB_size)\n",
    "\n",
    "    def choose_action(self, state):\n",
    "        if np.random.random() <= self.epsilon:\n",
    "            return np.random.choice(self.action_space)\n",
    "        else:\n",
    "            state_ = torch.tensor([state]).to(self.dqn)\n",
    "            actions = self.dqn.forward(state_)\n",
    "            return torch.argmax(actions).item()\n",
    "\n",
    "    def step(self):\n",
    "        if len(self.rb) < self.batch_size:\n",
    "            return\n",
    "\n",
    "        self.dqn.optim.zero_grad()\n",
    "\n",
    "        batch = self.rb.get_nbest(self.batch_size)\n",
    "        batch_e = []\n",
    "        for i in range(len(batch)):\n",
    "            batch_e.append(batch[i][\"states\"])\n",
    "        state_batch = torch.tensor(batch_e).to(self.dqn.device)\n",
    "        new_state_batch = torch.tensor(batch[\"new_states\"]).to(self.dqn.device)\n",
    "        reward_batch = torch.tensor(batch[\"rewards\"]).to(self.dqn.device)\n",
    "        action_batch = torch.tensor(batch[\"actions\"]).to(self.dqn.device)\n",
    "\n",
    "        sl = np.arange(len(batch))\n",
    "        q_eval = self.dqn.forward(state_batch)[sl, action_batch]\n",
    "        q_next = self.dqn.forward(new_state_batch)\n",
    "\n",
    "        q_target = reward_batch + self.gamma * torch.max(q_next, dim=1)[0]\n",
    "\n",
    "        loss = self.dqn.loss(q_target, q_eval).to(self.dqn.device)\n",
    "        loss.backward()\n",
    "        self.dqn.optim.step()\n",
    "\n",
    "        self.epsilon = self.epsilon - self.epsilon_decrement if self.epsilon > self.epsilon_min else self.epsilon_min\n",
    "\n"
   ],
   "metadata": {
    "collapsed": false
   }
  },
  {
   "cell_type": "code",
   "execution_count": 98,
   "outputs": [],
   "source": [
    "class ReplayBuffer:\n",
    "    def __init__(self, max_size):\n",
    "        self.max_size = max_size\n",
    "        self.buffer = []\n",
    "\n",
    "    def add_sample(self, current_state, new_state, action, rewards):\n",
    "        episode = {\"states\": current_state, \"new_states\": new_state, \"actions\":action, \"rewards\": rewards, \"summed_rewards\":sum(rewards)}\n",
    "        self.buffer.append(episode)\n",
    "\n",
    "    def sort(self):\n",
    "        #sort buffer\n",
    "        self.buffer = sorted(self.buffer, key = lambda i: i[\"summed_rewards\"],reverse=True)\n",
    "        # keep the max buffer size\n",
    "        self.buffer = self.buffer[:self.max_size]\n",
    "\n",
    "    def get_random_samples(self, batch_size):\n",
    "        self.sort()\n",
    "        idxs = np.random.randint(0, len(self.buffer), batch_size)\n",
    "        batch = [self.buffer[idx] for idx in idxs]\n",
    "        return batch\n",
    "\n",
    "    def get_nbest(self, n):\n",
    "        self.sort()\n",
    "        return self.buffer[:n]\n",
    "\n",
    "    def __len__(self):\n",
    "        return len(self.buffer)"
   ],
   "metadata": {
    "collapsed": false
   }
  },
  {
   "cell_type": "code",
   "execution_count": 99,
   "outputs": [],
   "source": [
    "class DQN(nn.Module):\n",
    "    def __init__(self, learning_rate, action_space, state_space, hidden_size):\n",
    "        super(DQN, self).__init__()\n",
    "        self.actions = np.arange(action_space)\n",
    "        self.fc1 = nn.Linear(state_space, hidden_size)\n",
    "        self.fc2 = nn.Linear(hidden_size, hidden_size)\n",
    "        self.fc3 = nn.Linear(hidden_size, action_space)\n",
    "        self.loss = nn.MSELoss()\n",
    "\n",
    "        self.optim = torch.optim.Adam(self.parameters(), lr=learning_rate)\n",
    "        self.device = torch.device('cuda:0' if torch.cuda.is_available() else 'cpu')\n",
    "        self.to(self.device)\n",
    "\n",
    "    def forward(self, state):\n",
    "        out = torch.relu(self.fc1(state))\n",
    "        out = torch.relu(self.fc2(out))\n",
    "        out = self.fc3(out)\n",
    "        return out"
   ],
   "metadata": {
    "collapsed": false
   }
  },
  {
   "cell_type": "code",
   "execution_count": 100,
   "outputs": [
    {
     "name": "stderr",
     "output_type": "stream",
     "text": [
      "C:\\Users\\mikcl\\AppData\\Local\\Programs\\Python\\Python310\\lib\\site-packages\\gym\\utils\\passive_env_checker.py:233: DeprecationWarning: `np.bool8` is a deprecated alias for `np.bool_`.  (Deprecated NumPy 1.24)\n",
      "  if not isinstance(terminated, (bool, np.bool8)):\n"
     ]
    },
    {
     "ename": "ValueError",
     "evalue": "setting an array element with a sequence. The requested array has an inhomogeneous shape after 1 dimensions. The detected shape was (2,) + inhomogeneous part.",
     "output_type": "error",
     "traceback": [
      "\u001B[1;31m---------------------------------------------------------------------------\u001B[0m",
      "\u001B[1;31mValueError\u001B[0m                                Traceback (most recent call last)",
      "Cell \u001B[1;32mIn[100], line 22\u001B[0m\n\u001B[0;32m     20\u001B[0m         agent\u001B[38;5;241m.\u001B[39mstep()\n\u001B[0;32m     21\u001B[0m         observation \u001B[38;5;241m=\u001B[39m next_observation\n\u001B[1;32m---> 22\u001B[0m     \u001B[43magent\u001B[49m\u001B[38;5;241;43m.\u001B[39;49m\u001B[43mrb\u001B[49m\u001B[38;5;241;43m.\u001B[39;49m\u001B[43madd_sample\u001B[49m\u001B[43m(\u001B[49m\u001B[43mstates\u001B[49m\u001B[43m,\u001B[49m\u001B[43m \u001B[49m\u001B[43mnew_states\u001B[49m\u001B[43m,\u001B[49m\u001B[43m \u001B[49m\u001B[43mactions\u001B[49m\u001B[43m,\u001B[49m\u001B[43m \u001B[49m\u001B[43mrewards\u001B[49m\u001B[43m)\u001B[49m\n\u001B[0;32m     23\u001B[0m     final_rewards\u001B[38;5;241m.\u001B[39mappend(\u001B[38;5;28msum\u001B[39m(rewards))\n\u001B[0;32m     25\u001B[0m avg_per_100 \u001B[38;5;241m=\u001B[39m np\u001B[38;5;241m.\u001B[39mzeros(\u001B[38;5;241m200\u001B[39m)\n",
      "Cell \u001B[1;32mIn[98], line 7\u001B[0m, in \u001B[0;36mReplayBuffer.add_sample\u001B[1;34m(self, current_state, new_state, action, rewards)\u001B[0m\n\u001B[0;32m      6\u001B[0m \u001B[38;5;28;01mdef\u001B[39;00m \u001B[38;5;21madd_sample\u001B[39m(\u001B[38;5;28mself\u001B[39m, current_state, new_state, action, rewards):\n\u001B[1;32m----> 7\u001B[0m     [np\u001B[38;5;241m.\u001B[39mfloat32(i) \u001B[38;5;28;01mfor\u001B[39;00m i \u001B[38;5;129;01min\u001B[39;00m current_state]\n\u001B[0;32m      8\u001B[0m     [np\u001B[38;5;241m.\u001B[39mfloat32(i) \u001B[38;5;28;01mfor\u001B[39;00m i \u001B[38;5;129;01min\u001B[39;00m new_state]\n\u001B[0;32m      9\u001B[0m     [np\u001B[38;5;241m.\u001B[39mint(i) \u001B[38;5;28;01mfor\u001B[39;00m i \u001B[38;5;129;01min\u001B[39;00m action]\n",
      "Cell \u001B[1;32mIn[98], line 7\u001B[0m, in \u001B[0;36m<listcomp>\u001B[1;34m(.0)\u001B[0m\n\u001B[0;32m      6\u001B[0m \u001B[38;5;28;01mdef\u001B[39;00m \u001B[38;5;21madd_sample\u001B[39m(\u001B[38;5;28mself\u001B[39m, current_state, new_state, action, rewards):\n\u001B[1;32m----> 7\u001B[0m     [\u001B[43mnp\u001B[49m\u001B[38;5;241;43m.\u001B[39;49m\u001B[43mfloat32\u001B[49m\u001B[43m(\u001B[49m\u001B[43mi\u001B[49m\u001B[43m)\u001B[49m \u001B[38;5;28;01mfor\u001B[39;00m i \u001B[38;5;129;01min\u001B[39;00m current_state]\n\u001B[0;32m      8\u001B[0m     [np\u001B[38;5;241m.\u001B[39mfloat32(i) \u001B[38;5;28;01mfor\u001B[39;00m i \u001B[38;5;129;01min\u001B[39;00m new_state]\n\u001B[0;32m      9\u001B[0m     [np\u001B[38;5;241m.\u001B[39mint(i) \u001B[38;5;28;01mfor\u001B[39;00m i \u001B[38;5;129;01min\u001B[39;00m action]\n",
      "\u001B[1;31mValueError\u001B[0m: setting an array element with a sequence. The requested array has an inhomogeneous shape after 1 dimensions. The detected shape was (2,) + inhomogeneous part."
     ]
    }
   ],
   "source": [
    "env = gym.make(\"CartPole-v1\")\n",
    "action_space = env.action_space.n\n",
    "state_space = env.observation_space.shape[0]\n",
    "\n",
    "final_rewards = []\n",
    "\n",
    "agent = Agent(action_space, state_space)\n",
    "for i in range(20000):\n",
    "    states, new_states, actions, rewards = [], [], [], []\n",
    "    truncated = False\n",
    "    terminated = False\n",
    "    observation = env.reset()\n",
    "    while not (truncated or terminated):\n",
    "        action = agent.choose_action(observation)\n",
    "        next_observation, reward, terminated, truncated, info = env.step(action)\n",
    "        states.append(observation)\n",
    "        new_states.append(next_observation)\n",
    "        actions.append(action)\n",
    "        rewards.append(reward)\n",
    "        agent.step()\n",
    "        observation = next_observation\n",
    "    agent.rb.add_sample(states, new_states, actions, rewards)\n",
    "    final_rewards.append(sum(rewards))\n",
    "\n",
    "avg_per_100 = np.zeros(200)\n",
    "for i in range(20000):\n",
    "    avg_per_100[i//100] += final_rewards[i]\n",
    "avg_per_100 = avg_per_100 / 100\n",
    "print(avg_per_100)"
   ],
   "metadata": {
    "collapsed": false
   }
  }
 ],
 "metadata": {
  "kernelspec": {
   "display_name": "Python 3",
   "language": "python",
   "name": "python3"
  },
  "language_info": {
   "codemirror_mode": {
    "name": "ipython",
    "version": 2
   },
   "file_extension": ".py",
   "mimetype": "text/x-python",
   "name": "python",
   "nbconvert_exporter": "python",
   "pygments_lexer": "ipython2",
   "version": "2.7.6"
  }
 },
 "nbformat": 4,
 "nbformat_minor": 0
}
