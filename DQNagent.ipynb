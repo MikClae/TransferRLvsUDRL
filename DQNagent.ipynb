{
 "cells": [
  {
   "cell_type": "code",
   "execution_count": 32,
   "metadata": {
    "collapsed": true
   },
   "outputs": [],
   "source": [
    "import numpy as np\n",
    "import gym\n",
    "import torch\n",
    "import torch.nn as nn\n",
    "from tqdm import tqdm\n",
    "import matplotlib.pyplot as plot"
   ]
  },
  {
   "cell_type": "code",
   "execution_count": 33,
   "metadata": {
    "collapsed": false
   },
   "outputs": [],
   "source": [
    "class Agent:\n",
    "    def __init__(self, action_space, state_space):\n",
    "        #hyperparameters, consider adding to constructor\n",
    "        self.batch_size = 16\n",
    "        self.learning_rate = 0.01\n",
    "        self.RB_size = 100000\n",
    "        self.gamma = 0.99\n",
    "        self.epsilon = 1\n",
    "        self.epsilon_min = 0.01\n",
    "        self.epsilon_decrement = 1e-4\n",
    "\n",
    "        self.action_space = np.arange(action_space)\n",
    "\n",
    "        #Deep Q Network\n",
    "        self.dqn = DQN(self.learning_rate, action_space, state_space, 256)\n",
    "        #Replay Buffer\n",
    "        self.rb = ReplayBuffer(self.RB_size)\n",
    "\n",
    "    def choose_action(self, state):\n",
    "        if np.random.random() <= self.epsilon:\n",
    "            return np.random.choice(self.action_space)\n",
    "        else:\n",
    "            if type(state) is tuple:    #I don't know why, but sometimes it is a tuple with index 0 the array and index 2 empty?~!\n",
    "                state = state[0]\n",
    "            state_ = torch.tensor([state]).to(self.dqn.device)\n",
    "            actions = self.dqn.forward(state_)\n",
    "            return torch.argmax(actions).item()\n",
    "\n",
    "    def step(self):\n",
    "        if len(self.rb) < self.batch_size:\n",
    "            return\n",
    "\n",
    "\n",
    "        self.dqn.optim.zero_grad()\n",
    "\n",
    "        batch = self.rb.get_random_samples(self.batch_size)\n",
    "        for trajectory in batch:\n",
    "            trajectory_state = trajectory[\"state\"]\n",
    "            if type(trajectory_state) is tuple:    #I don't know why, but sometimes it is a tuple with index 0 the array and index 2 empty?~!\n",
    "                trajectory_state = trajectory_state[0]\n",
    "            q_eval = self.dqn.forward(torch.tensor(trajectory_state).to(self.dqn.device))\n",
    "\n",
    "            trajectory_action = trajectory[\"action\"]\n",
    "\n",
    "            trajectory_next_state = trajectory[\"new_state\"]\n",
    "            q_next = self.dqn.forward(torch.tensor(trajectory_next_state).to(self.dqn.device))\n",
    "\n",
    "            trajectory_reward = trajectory[\"reward\"]\n",
    "\n",
    "            q_target = trajectory_reward + self.gamma * torch.max(q_next)\n",
    "\n",
    "            loss = self.dqn.loss(q_target, q_eval[trajectory_action]).to(self.dqn.device)\n",
    "            loss.backward()\n",
    "\n",
    "        self.dqn.optim.step()\n",
    "\n",
    "        self.epsilon = self.epsilon - self.epsilon_decrement if self.epsilon > self.epsilon_min else self.epsilon_min\n",
    "\n"
   ]
  },
  {
   "cell_type": "code",
   "execution_count": 34,
   "metadata": {
    "collapsed": false
   },
   "outputs": [],
   "source": [
    "class ReplayBuffer:\n",
    "    def __init__(self, max_size):\n",
    "        self.max_size = max_size\n",
    "        self.buffer = []\n",
    "\n",
    "    def add_sample(self, current_state, new_state, action, rewards):\n",
    "        trajectory = {\"state\": current_state, \"new_state\": new_state, \"action\":action, \"reward\": rewards}\n",
    "        self.buffer.append(trajectory)\n",
    "\n",
    "    def sort(self):\n",
    "        #sort buffer\n",
    "        self.buffer = sorted(self.buffer, key = lambda i: i[\"reward\"],reverse=True)\n",
    "        # keep the max buffer size\n",
    "        self.buffer = self.buffer[:self.max_size]\n",
    "\n",
    "    def get_random_samples(self, batch_size):\n",
    "        self.sort()\n",
    "        idxs = np.random.randint(0, len(self.buffer), batch_size)\n",
    "        batch = [self.buffer[idx] for idx in idxs]\n",
    "        return batch\n",
    "\n",
    "    def get_nbest(self, n):\n",
    "        self.sort()\n",
    "        return self.buffer[:n]\n",
    "\n",
    "    def __len__(self):\n",
    "        return len(self.buffer)"
   ]
  },
  {
   "cell_type": "code",
   "execution_count": 35,
   "metadata": {
    "collapsed": false
   },
   "outputs": [],
   "source": [
    "class DQN(nn.Module):\n",
    "    def __init__(self, learning_rate, action_space, state_space, hidden_size):\n",
    "        super(DQN, self).__init__()\n",
    "        self.actions = np.arange(action_space)\n",
    "        self.fc1 = nn.Linear(state_space, hidden_size)\n",
    "        self.fc2 = nn.Linear(hidden_size, hidden_size)\n",
    "        self.fc3 = nn.Linear(hidden_size, action_space)\n",
    "        self.loss = nn.MSELoss()\n",
    "\n",
    "        self.optim = torch.optim.Adam(self.parameters(), lr=learning_rate)\n",
    "        self.device = torch.device('cuda:0' if torch.cuda.is_available() else 'cpu')\n",
    "        self.to(self.device)\n",
    "\n",
    "    def forward(self, state):\n",
    "        out = torch.relu(self.fc1(state))\n",
    "        out = torch.relu(self.fc2(out))\n",
    "        out = self.fc3(out)\n",
    "        return out"
   ]
  },
  {
   "cell_type": "code",
   "execution_count": 36,
   "metadata": {
    "collapsed": false
   },
   "outputs": [
    {
     "name": "stderr",
     "output_type": "stream",
     "text": [
      "  0%|          | 0/3000 [00:00<?, ?it/s]C:\\Users\\mikcl\\AppData\\Local\\Packages\\PythonSoftwareFoundation.Python.3.10_qbz5n2kfra8p0\\LocalCache\\local-packages\\Python310\\site-packages\\gym\\utils\\passive_env_checker.py:233: DeprecationWarning: `np.bool8` is a deprecated alias for `np.bool_`.  (Deprecated NumPy 1.24)\n",
      "  if not isinstance(terminated, (bool, np.bool8)):\n",
      "  0%|          | 0/3000 [00:00<?, ?it/s]\n"
     ]
    },
    {
     "ename": "RuntimeError",
     "evalue": "Expected all tensors to be on the same device, but found at least two devices, cpu and cuda:0! (when checking argument for argument mat2 in method wrapper_CUDA_mm)",
     "output_type": "error",
     "traceback": [
      "\u001b[1;31m---------------------------------------------------------------------------\u001b[0m",
      "\u001b[1;31mRuntimeError\u001b[0m                              Traceback (most recent call last)",
      "Cell \u001b[1;32mIn[36], line 20\u001b[0m\n\u001b[0;32m     18\u001b[0m     actions\u001b[39m.\u001b[39mappend(action)\n\u001b[0;32m     19\u001b[0m     rewards\u001b[39m.\u001b[39mappend(reward)\n\u001b[1;32m---> 20\u001b[0m     agent\u001b[39m.\u001b[39;49mstep()\n\u001b[0;32m     21\u001b[0m     observation \u001b[39m=\u001b[39m next_observation\n\u001b[0;32m     22\u001b[0m final_rewards\u001b[39m.\u001b[39mappend(\u001b[39msum\u001b[39m(rewards))\n",
      "Cell \u001b[1;32mIn[33], line 41\u001b[0m, in \u001b[0;36mAgent.step\u001b[1;34m(self)\u001b[0m\n\u001b[0;32m     39\u001b[0m \u001b[39mif\u001b[39;00m \u001b[39mtype\u001b[39m(trajectory_state) \u001b[39mis\u001b[39;00m \u001b[39mtuple\u001b[39m:    \u001b[39m#I don't know why, but sometimes it is a tuple with index 0 the array and index 2 empty?~!\u001b[39;00m\n\u001b[0;32m     40\u001b[0m     trajectory_state \u001b[39m=\u001b[39m trajectory_state[\u001b[39m0\u001b[39m]\n\u001b[1;32m---> 41\u001b[0m q_eval \u001b[39m=\u001b[39m \u001b[39mself\u001b[39;49m\u001b[39m.\u001b[39;49mdqn\u001b[39m.\u001b[39;49mforward(torch\u001b[39m.\u001b[39;49mtensor(trajectory_state))\n\u001b[0;32m     43\u001b[0m trajectory_action \u001b[39m=\u001b[39m trajectory[\u001b[39m\"\u001b[39m\u001b[39maction\u001b[39m\u001b[39m\"\u001b[39m]\n\u001b[0;32m     45\u001b[0m trajectory_next_state \u001b[39m=\u001b[39m trajectory[\u001b[39m\"\u001b[39m\u001b[39mnew_state\u001b[39m\u001b[39m\"\u001b[39m]\n",
      "Cell \u001b[1;32mIn[35], line 15\u001b[0m, in \u001b[0;36mDQN.forward\u001b[1;34m(self, state)\u001b[0m\n\u001b[0;32m     14\u001b[0m \u001b[39mdef\u001b[39;00m \u001b[39mforward\u001b[39m(\u001b[39mself\u001b[39m, state):\n\u001b[1;32m---> 15\u001b[0m     out \u001b[39m=\u001b[39m (torch\u001b[39m.\u001b[39mrelu(\u001b[39mself\u001b[39;49m\u001b[39m.\u001b[39;49mfc1(state)))\u001b[39m.\u001b[39mto(\u001b[39mself\u001b[39m\u001b[39m.\u001b[39mdevice)\n\u001b[0;32m     16\u001b[0m     out \u001b[39m=\u001b[39m torch\u001b[39m.\u001b[39mrelu(\u001b[39mself\u001b[39m\u001b[39m.\u001b[39mfc2(out))\n\u001b[0;32m     17\u001b[0m     out \u001b[39m=\u001b[39m \u001b[39mself\u001b[39m\u001b[39m.\u001b[39mfc3(out)\n",
      "File \u001b[1;32m~\\AppData\\Local\\Packages\\PythonSoftwareFoundation.Python.3.10_qbz5n2kfra8p0\\LocalCache\\local-packages\\Python310\\site-packages\\torch\\nn\\modules\\module.py:1501\u001b[0m, in \u001b[0;36mModule._call_impl\u001b[1;34m(self, *args, **kwargs)\u001b[0m\n\u001b[0;32m   1496\u001b[0m \u001b[39m# If we don't have any hooks, we want to skip the rest of the logic in\u001b[39;00m\n\u001b[0;32m   1497\u001b[0m \u001b[39m# this function, and just call forward.\u001b[39;00m\n\u001b[0;32m   1498\u001b[0m \u001b[39mif\u001b[39;00m \u001b[39mnot\u001b[39;00m (\u001b[39mself\u001b[39m\u001b[39m.\u001b[39m_backward_hooks \u001b[39mor\u001b[39;00m \u001b[39mself\u001b[39m\u001b[39m.\u001b[39m_backward_pre_hooks \u001b[39mor\u001b[39;00m \u001b[39mself\u001b[39m\u001b[39m.\u001b[39m_forward_hooks \u001b[39mor\u001b[39;00m \u001b[39mself\u001b[39m\u001b[39m.\u001b[39m_forward_pre_hooks\n\u001b[0;32m   1499\u001b[0m         \u001b[39mor\u001b[39;00m _global_backward_pre_hooks \u001b[39mor\u001b[39;00m _global_backward_hooks\n\u001b[0;32m   1500\u001b[0m         \u001b[39mor\u001b[39;00m _global_forward_hooks \u001b[39mor\u001b[39;00m _global_forward_pre_hooks):\n\u001b[1;32m-> 1501\u001b[0m     \u001b[39mreturn\u001b[39;00m forward_call(\u001b[39m*\u001b[39margs, \u001b[39m*\u001b[39m\u001b[39m*\u001b[39mkwargs)\n\u001b[0;32m   1502\u001b[0m \u001b[39m# Do not call functions when jit is used\u001b[39;00m\n\u001b[0;32m   1503\u001b[0m full_backward_hooks, non_full_backward_hooks \u001b[39m=\u001b[39m [], []\n",
      "File \u001b[1;32m~\\AppData\\Local\\Packages\\PythonSoftwareFoundation.Python.3.10_qbz5n2kfra8p0\\LocalCache\\local-packages\\Python310\\site-packages\\torch\\nn\\modules\\linear.py:114\u001b[0m, in \u001b[0;36mLinear.forward\u001b[1;34m(self, input)\u001b[0m\n\u001b[0;32m    113\u001b[0m \u001b[39mdef\u001b[39;00m \u001b[39mforward\u001b[39m(\u001b[39mself\u001b[39m, \u001b[39minput\u001b[39m: Tensor) \u001b[39m-\u001b[39m\u001b[39m>\u001b[39m Tensor:\n\u001b[1;32m--> 114\u001b[0m     \u001b[39mreturn\u001b[39;00m F\u001b[39m.\u001b[39;49mlinear(\u001b[39minput\u001b[39;49m, \u001b[39mself\u001b[39;49m\u001b[39m.\u001b[39;49mweight, \u001b[39mself\u001b[39;49m\u001b[39m.\u001b[39;49mbias)\n",
      "\u001b[1;31mRuntimeError\u001b[0m: Expected all tensors to be on the same device, but found at least two devices, cpu and cuda:0! (when checking argument for argument mat2 in method wrapper_CUDA_mm)"
     ]
    }
   ],
   "source": [
    "env = gym.make(\"CartPole-v1\")\n",
    "action_space = env.action_space.n\n",
    "state_space = env.observation_space.shape[0]\n",
    "\n",
    "final_rewards = []\n",
    "agent = Agent(action_space, state_space)\n",
    "for i in tqdm(range(3000)):\n",
    "    states, new_states, actions, rewards = [], [], [], []\n",
    "    truncated = False\n",
    "    terminated = False\n",
    "    observation = env.reset()\n",
    "    while not (truncated or terminated):\n",
    "        action = agent.choose_action(observation)\n",
    "        next_observation, reward, terminated, truncated, info = env.step(action)\n",
    "        agent.rb.add_sample(observation, next_observation, action, reward)\n",
    "        states.append(observation)\n",
    "        new_states.append(next_observation)\n",
    "        actions.append(action)\n",
    "        rewards.append(reward)\n",
    "        agent.step()\n",
    "        observation = next_observation\n",
    "    final_rewards.append(sum(rewards))\n",
    "\n",
    "# print(final_rewards)\n",
    "avg_per_10 = np.zeros(300)\n",
    "for i in range(3000):\n",
    "    avg_per_10[i//10] += final_rewards[i]\n",
    "avg_per_10 = avg_per_10 / 10\n",
    "\n",
    "plot.plot(avg_per_10)"
   ]
  }
 ],
 "metadata": {
  "kernelspec": {
   "display_name": "Python 3",
   "language": "python",
   "name": "python3"
  },
  "language_info": {
   "codemirror_mode": {
    "name": "ipython",
    "version": 3
   },
   "file_extension": ".py",
   "mimetype": "text/x-python",
   "name": "python",
   "nbconvert_exporter": "python",
   "pygments_lexer": "ipython3",
   "version": "3.10.10"
  }
 },
 "nbformat": 4,
 "nbformat_minor": 0
}
